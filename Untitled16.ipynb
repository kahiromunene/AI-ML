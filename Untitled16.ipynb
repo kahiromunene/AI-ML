{
  "nbformat": 4,
  "nbformat_minor": 0,
  "metadata": {
    "colab": {
      "provenance": []
    },
    "kernelspec": {
      "name": "python3",
      "display_name": "Python 3"
    },
    "language_info": {
      "name": "python"
    }
  },
  "cells": [
    {
      "cell_type": "code",
      "execution_count": null,
      "metadata": {
        "colab": {
          "base_uri": "https://localhost:8080/"
        },
        "id": "lzNTbZuNEuOC",
        "outputId": "721695ea-14f9-46d2-98fa-7160aa3f77e3"
      },
      "outputs": [
        {
          "output_type": "stream",
          "name": "stdout",
          "text": [
            "Modulus as decimal: 22825373692019530804306212864609512775374171823993708516509897631547513634635856375624003737068034549047677999310941837454378829351398302382629658264078775456838626207507725494030600516872852306191255492926495965536379271875310457319107936020730050476235278671528265817571433919561175665096171189758406136453987966255236963782666066962654678464950075923060327358691356632908606498231755963567382339010985222623205586923466405809217426670333410014429905146941652293366212903733630083016398810887356019977409467374742266276267137547021576874204809506045914964491063393800499167416471949021995447722415959979785959569497\n"
          ]
        }
      ],
      "source": [
        "from cryptography import x509\n",
        "from cryptography.hazmat.backends import default_backend\n",
        "import base64\n",
        "\n",
        "# Replace 'der_certificate_file.der' with the path to your DER-encoded certificate file\n",
        "der_certificate_file = '/content/2048b-rsa-example-cert_3220bd92e30015fe4fbeb84a755e7ca5.der'\n",
        "\n",
        "# Read the DER-encoded certificate\n",
        "with open(der_certificate_file, 'rb') as f:\n",
        "    der_data = f.read()\n",
        "\n",
        "# Parse the DER-encoded certificate\n",
        "cert = x509.load_der_x509_certificate(der_data, default_backend())\n",
        "\n",
        "# Extract the RSA public key\n",
        "public_key = cert.public_key()\n",
        "\n",
        "# Get the modulus as an integer\n",
        "modulus = public_key.public_numbers().n\n",
        "\n",
        "# Print the modulus as a decimal\n",
        "print(\"Modulus as decimal:\", modulus)"
      ]
    },
    {
      "cell_type": "code",
      "source": [
        "from cryptography.hazmat.backends import default_backend\n",
        "from cryptography.hazmat.primitives import serialization\n",
        "from cryptography.hazmat.primitives.asymmetric import rsa\n",
        "\n",
        "# Replace 'pem_key_file.pem' with the path to your PEM-formatted RSA key file\n",
        "pem_key_file = '/content/privacy_enhanced_mail_1f696c053d76a78c2c531bb013a92d4a.pem'\n",
        "\n",
        "# Read the PEM-formatted RSA key\n",
        "with open(pem_key_file, 'rb') as f:\n",
        "    pem_data = f.read()\n",
        "\n",
        "# Load the PEM-encoded RSA key\n",
        "private_key = serialization.load_pem_private_key(\n",
        "    pem_data,\n",
        "    password=None,\n",
        "    backend=default_backend()\n",
        ")\n",
        "\n",
        "# Extract the private key 'd' as a decimal integer\n",
        "private_key_d = private_key.private_numbers().d\n",
        "\n",
        "# Print the private key 'd' as a decimal integer\n",
        "print(\"Private key 'd' as decimal integer:\", private_key_d)\n"
      ],
      "metadata": {
        "colab": {
          "base_uri": "https://localhost:8080/"
        },
        "id": "dYhp1RZNFPiA",
        "outputId": "58c39d89-5406-4f78-ee2b-05b37b13bde7"
      },
      "execution_count": null,
      "outputs": [
        {
          "output_type": "stream",
          "name": "stdout",
          "text": [
            "Private key 'd' as decimal integer: 15682700288056331364787171045819973654991149949197959929860861228180021707316851924456205543665565810892674190059831330231436970914474774562714945620519144389785158908994181951348846017432506464163564960993784254153395406799101314760033445065193429592512349952020982932218524462341002102063435489318813316464511621736943938440710470694912336237680219746204595128959161800595216366237538296447335375818871952520026993102148328897083547184286493241191505953601668858941129790966909236941127851370202421135897091086763569884760099112291072056970636380417349019579768748054760104838790424708988260443926906673795975104689\n"
          ]
        }
      ]
    },
    {
      "cell_type": "code",
      "source": [
        "import base64\n",
        "from cryptography.hazmat.primitives import serialization\n",
        "from cryptography.hazmat.backends import default_backend\n",
        "\n",
        "# Replace 'ssh_public_key.txt' with the path to your SSH public key file\n",
        "ssh_public_key_file = '/content/bruce_rsa_6e7ecd53b443a97013397b1a1ea30e14.pub'\n",
        "\n",
        "# Read the SSH public key\n",
        "with open(ssh_public_key_file, 'r') as f:\n",
        "    ssh_public_key_data = f.read().strip()\n",
        "\n",
        "# Extract the modulus (n) from the SSH public key\n",
        "modulus_base64 = ssh_public_key_data.split()[1]\n",
        "modulus_bytes = base64.b64decode(modulus_base64)\n",
        "modulus_int = int.from_bytes(modulus_bytes, byteorder='big')\n",
        "\n",
        "# Print the modulus as a decimal integer\n",
        "print(\"Modulus (n) as decimal integer:\", modulus_int)\n"
      ],
      "metadata": {
        "colab": {
          "base_uri": "https://localhost:8080/"
        },
        "id": "laiz72CTFmi2",
        "outputId": "f39fd841-3581-4cd7-9bb5-493908f36144"
      },
      "execution_count": null,
      "outputs": [
        {
          "output_type": "stream",
          "name": "stdout",
          "text": [
            "Modulus (n) as decimal integer: 247126547589559286565826749763049881420256091576264159545832791497314817262626833353613450739124867654463637720928830239380877994422270705705093710854549334059923029394175929175482087824742427186514467247393555655242207164473899380767392686668058504063398286525221379715593955900791623486494438482125696494156942674690473169234605440542062049311338660269556185385098967983855847324576093913863955221277728912273469943518312176592077981680091231442785840638523377197383008736430456675601416234961800109325146763016837794676120763576707283692771240237402729876979427918186059409550610730103352440563114649619631625436205211178016280812811851888539609301342849318714225256619881739618169258527218816692049635257228217797259820522469564680832363075842570559265208777497883617152560823098730519676948004314790120661602108371749365915879935756910948229264136970696332078193451427148038089704702096013920955702796796476899696540642487329194275169568156332439324047803594640644141\n"
          ]
        }
      ]
    },
    {
      "cell_type": "code",
      "source": [
        "pip install cryptography\n",
        "\n",
        "from Crypto.PublicKey import RSA\n",
        "\n",
        "c = open(r\"/content/bruce_rsa_6e7ecd53b443a97013397b1a1ea30e14.pub\").read()\n",
        "p = RSA.import_key(c)\n",
        "print(p.n)"
      ],
      "metadata": {
        "colab": {
          "base_uri": "https://localhost:8080/",
          "height": 140
        },
        "id": "YemkSEwCTOUm",
        "outputId": "46b22f96-37f6-4bef-af77-8ef8a85bd113"
      },
      "execution_count": null,
      "outputs": [
        {
          "output_type": "error",
          "ename": "SyntaxError",
          "evalue": "ignored",
          "traceback": [
            "\u001b[0;36m  File \u001b[0;32m\"<ipython-input-20-073c388cebbe>\"\u001b[0;36m, line \u001b[0;32m1\u001b[0m\n\u001b[0;31m    pip install cryptography\u001b[0m\n\u001b[0m        ^\u001b[0m\n\u001b[0;31mSyntaxError\u001b[0m\u001b[0;31m:\u001b[0m invalid syntax\n"
          ]
        }
      ]
    },
    {
      "cell_type": "code",
      "source": [
        "import base64\n",
        "\n",
        "# Replace 'ssh_public_key.txt' with the path to your SSH public key file\n",
        "ssh_public_key_file = '/content/bruce_rsa_6e7ecd53b443a97013397b1a1ea30e14.pub'\n",
        "\n",
        "# Read the SSH public key\n",
        "with open(ssh_public_key_file, 'r') as f:\n",
        "    ssh_public_key_data = f.read().strip()\n",
        "\n",
        "# Extract the modulus (n) from the SSH public key\n",
        "modulus_base64 = ssh_public_key_data.split()[1]\n",
        "modulus_bytes = base64.b64decode(modulus_base64)\n",
        "modulus_int = int.from_bytes(modulus_bytes, byteorder='big')\n",
        "\n",
        "# Print the modulus as a decimal integer\n",
        "print(\"Modulus (n) as decimal integer:\", modulus_int)\n"
      ],
      "metadata": {
        "colab": {
          "base_uri": "https://localhost:8080/"
        },
        "id": "FQrzq1U0Sbr6",
        "outputId": "f790c9c6-1c75-4211-9bd7-b06d1c0404fd"
      },
      "execution_count": null,
      "outputs": [
        {
          "output_type": "stream",
          "name": "stdout",
          "text": [
            "Modulus (n) as decimal integer: 247126547589559286565826749763049881420256091576264159545832791497314817262626833353613450739124867654463637720928830239380877994422270705705093710854549334059923029394175929175482087824742427186514467247393555655242207164473899380767392686668058504063398286525221379715593955900791623486494438482125696494156942674690473169234605440542062049311338660269556185385098967983855847324576093913863955221277728912273469943518312176592077981680091231442785840638523377197383008736430456675601416234961800109325146763016837794676120763576707283692771240237402729876979427918186059409550610730103352440563114649619631625436205211178016280812811851888539609301342849318714225256619881739618169258527218816692049635257228217797259820522469564680832363075842570559265208777497883617152560823098730519676948004314790120661602108371749365915879935756910948229264136970696332078193451427148038089704702096013920955702796796476899696540642487329194275169568156332439324047803594640644141\n"
          ]
        }
      ]
    },
    {
      "cell_type": "code",
      "source": [
        "import base64\n",
        "\n",
        "public_key = ''' ssh-rsa AAAAB3NzaC1yc2EAAAADAQABAAABgQCtPLqba+GFvDHdFVs1Vvdk56cKqqw5cdomlu034666UsoFIqkig8H5kNsNefSpaR/iU7G0ZKCiWRRuAbTsuHN+Cz526XhQvzgKTBkTGYXdF/WdG/6/umou3Z0+wJvTZgvEmeEclvitBrPZkzhAK1M5ypgNR4p8scJplTgSSb84Ckqul/Dj/Sh+fwo6sU3S3j92qc27BVGChpQiGwjjut4CkHauzQA/gKCBIiLyzoFcLEHhjOBOEErnvrRPWCIAJhALkwV2rUbD4g1IWa7QI2q3nB0nlnjPnjjwaR7TpH4gy2NSIYNDdC1PZ8reBaFnGTXgzhQ2t0ROBNb+ZDgH8Fy+KTG+gEakpu20bRqB86NN6frDLOkZ9x3w32tJtqqrJTALy4Oi3MW0XPO61UBT133VNqAbNYGE2gx+mXBVOezbsY46C/V2fmxBJJKY/SFNs8wOVOHKwqRH0GI5VsG1YZClX3fqk8GDJYREaoyoL3HKQt1Ue/ZW7TlPRYzAoIB62C0= bschneier@facts '''\n",
        "\n",
        "modulus_bytes = base64.b64decode(public_key.split(' ')[1]) modulus_n = int.from_bytes(modulus_bytes, byteorder='big')\n",
        "\n",
        "print(modulus_n)"
      ],
      "metadata": {
        "colab": {
          "base_uri": "https://localhost:8080/",
          "height": 140
        },
        "id": "XzNia7aXSBFb",
        "outputId": "dfe519d7-82ed-4d9e-d9af-8755a88858f4"
      },
      "execution_count": null,
      "outputs": [
        {
          "output_type": "error",
          "ename": "SyntaxError",
          "evalue": "ignored",
          "traceback": [
            "\u001b[0;36m  File \u001b[0;32m\"<ipython-input-17-a351afad0bb3>\"\u001b[0;36m, line \u001b[0;32m5\u001b[0m\n\u001b[0;31m    modulus_bytes = base64.b64decode(public_key.split(' ')[1]) modulus_n = int.from_bytes(modulus_bytes, byteorder='big')\u001b[0m\n\u001b[0m                                                               ^\u001b[0m\n\u001b[0;31mSyntaxError\u001b[0m\u001b[0;31m:\u001b[0m invalid syntax\n"
          ]
        }
      ]
    },
    {
      "cell_type": "code",
      "source": [
        "import os\n",
        "import socket\n",
        "import ssl\n",
        "from cryptography.hazmat.primitives import serialization\n",
        "from urllib.parse import urlparse\n",
        "\n",
        "\n",
        "def get_tls_parameters(host):\n",
        "    ctx = ssl.create_default_context()\n",
        "    ctx.check_hostname = False\n",
        "    ctx.verify_mode = ssl.CERT_NONE\n",
        "\n",
        "    with socket.create_connection((host, 443)) as sock:\n",
        "        with ctx.wrap_socket(sock, server_hostname=host) as ssock:\n",
        "            cert = ssock.getpeercert(binary_form=True)\n",
        "            public_key = cert['/content/transparency_afff0345c6f99bf80eab5895458d8eab.pem']\n",
        "\n",
        "    return public_key\n",
        "\n",
        "\n",
        "def find_subdomain(key):\n",
        "    domain = \"cryptohack.org\"\n",
        "    port = 443\n",
        "\n",
        "    ctx = ssl.create_default_context()\n",
        "    ctx.check_hostname = False\n",
        "    ctx.verify_mode = ssl.CERT_NONE\n",
        "\n",
        "    with socket.create_connection((domain, port)) as sock:\n",
        "        with ctx.wrap_socket(sock, server_hostname=domain) as ssock:\n",
        "            for i in range(1, 255):\n",
        "                subdomain = f\"{i}.{domain}\"\n",
        "                try:\n",
        "                    ssock.connect((subdomain, port))\n",
        "                    cert = ssock.getpeercert(binary_form=True)\n",
        "                    if cert['subjectPublicKeyInfo'] == key:\n",
        "                        return subdomain\n",
        "                except ssl.SSLError:\n",
        "                    pass\n",
        "\n",
        "    return None\n",
        "\n",
        "\n",
        "if __name__ == \"__main__\":\n",
        "    public_key = get_tls_parameters(\"cryptohack.org\")\n",
        "    subdomain = find_subdomain(public_key)\n",
        "\n",
        "    if subdomain:\n",
        "        print(f\"Flag: {subdomain}\")\n",
        "    else:\n",
        "        print(\"Subdomain not found\")\n"
      ],
      "metadata": {
        "colab": {
          "base_uri": "https://localhost:8080/",
          "height": 366
        },
        "id": "25t1hkzgB5YF",
        "outputId": "df7cc036-8ff9-4588-d36e-e06da66777d2"
      },
      "execution_count": null,
      "outputs": [
        {
          "output_type": "error",
          "ename": "TypeError",
          "evalue": "ignored",
          "traceback": [
            "\u001b[0;31m---------------------------------------------------------------------------\u001b[0m",
            "\u001b[0;31mTypeError\u001b[0m                                 Traceback (most recent call last)",
            "\u001b[0;32m<ipython-input-4-36adc74cc95d>\u001b[0m in \u001b[0;36m<cell line: 44>\u001b[0;34m()\u001b[0m\n\u001b[1;32m     43\u001b[0m \u001b[0;34m\u001b[0m\u001b[0m\n\u001b[1;32m     44\u001b[0m \u001b[0;32mif\u001b[0m \u001b[0m__name__\u001b[0m \u001b[0;34m==\u001b[0m \u001b[0;34m\"__main__\"\u001b[0m\u001b[0;34m:\u001b[0m\u001b[0;34m\u001b[0m\u001b[0;34m\u001b[0m\u001b[0m\n\u001b[0;32m---> 45\u001b[0;31m     \u001b[0mpublic_key\u001b[0m \u001b[0;34m=\u001b[0m \u001b[0mget_tls_parameters\u001b[0m\u001b[0;34m(\u001b[0m\u001b[0;34m\"cryptohack.org\"\u001b[0m\u001b[0;34m)\u001b[0m\u001b[0;34m\u001b[0m\u001b[0;34m\u001b[0m\u001b[0m\n\u001b[0m\u001b[1;32m     46\u001b[0m     \u001b[0msubdomain\u001b[0m \u001b[0;34m=\u001b[0m \u001b[0mfind_subdomain\u001b[0m\u001b[0;34m(\u001b[0m\u001b[0mpublic_key\u001b[0m\u001b[0;34m)\u001b[0m\u001b[0;34m\u001b[0m\u001b[0;34m\u001b[0m\u001b[0m\n\u001b[1;32m     47\u001b[0m \u001b[0;34m\u001b[0m\u001b[0m\n",
            "\u001b[0;32m<ipython-input-4-36adc74cc95d>\u001b[0m in \u001b[0;36mget_tls_parameters\u001b[0;34m(host)\u001b[0m\n\u001b[1;32m     14\u001b[0m         \u001b[0;32mwith\u001b[0m \u001b[0mctx\u001b[0m\u001b[0;34m.\u001b[0m\u001b[0mwrap_socket\u001b[0m\u001b[0;34m(\u001b[0m\u001b[0msock\u001b[0m\u001b[0;34m,\u001b[0m \u001b[0mserver_hostname\u001b[0m\u001b[0;34m=\u001b[0m\u001b[0mhost\u001b[0m\u001b[0;34m)\u001b[0m \u001b[0;32mas\u001b[0m \u001b[0mssock\u001b[0m\u001b[0;34m:\u001b[0m\u001b[0;34m\u001b[0m\u001b[0;34m\u001b[0m\u001b[0m\n\u001b[1;32m     15\u001b[0m             \u001b[0mcert\u001b[0m \u001b[0;34m=\u001b[0m \u001b[0mssock\u001b[0m\u001b[0;34m.\u001b[0m\u001b[0mgetpeercert\u001b[0m\u001b[0;34m(\u001b[0m\u001b[0mbinary_form\u001b[0m\u001b[0;34m=\u001b[0m\u001b[0;32mTrue\u001b[0m\u001b[0;34m)\u001b[0m\u001b[0;34m\u001b[0m\u001b[0;34m\u001b[0m\u001b[0m\n\u001b[0;32m---> 16\u001b[0;31m             \u001b[0mpublic_key\u001b[0m \u001b[0;34m=\u001b[0m \u001b[0mcert\u001b[0m\u001b[0;34m[\u001b[0m\u001b[0;34m'/content/transparency_afff0345c6f99bf80eab5895458d8eab.pem'\u001b[0m\u001b[0;34m]\u001b[0m\u001b[0;34m\u001b[0m\u001b[0;34m\u001b[0m\u001b[0m\n\u001b[0m\u001b[1;32m     17\u001b[0m \u001b[0;34m\u001b[0m\u001b[0m\n\u001b[1;32m     18\u001b[0m     \u001b[0;32mreturn\u001b[0m \u001b[0mpublic_key\u001b[0m\u001b[0;34m\u001b[0m\u001b[0;34m\u001b[0m\u001b[0m\n",
            "\u001b[0;31mTypeError\u001b[0m: byte indices must be integers or slices, not str"
          ]
        }
      ]
    },
    {
      "cell_type": "code",
      "source": [
        "from cryptography.hazmat.primitives import serialization\n",
        "import base64\n",
        "import requests\n",
        "\n",
        "# Replace 'rsa_public_key.pem' with the path to your RSA public key file\n",
        "rsa_public_key_file = '/content/transparency_afff0345c6f99bf80eab5895458d8eab.pem'\n",
        "import base64\n",
        "import requests\n",
        "\n",
        "# Replace 'rsa_public_key.pem' with the path to your RSA public key file\n",
        "rsa_public_key_file = '/content/transparency_afff0345c6f99bf80eab5895458d8eab.pem'\n",
        "\n",
        "# Read the RSA public key\n",
        "with open(rsa_public_key_file, 'rb') as f:\n",
        "    rsa_public_key_data = f.read()\n",
        "\n",
        "# Extract the modulus (n) from the RSA public key\n",
        "modulus_base64 = rsa_public_key_data.split(b'\\n')[1]\n",
        "modulus_bytes = base64.b64decode(modulus_base64)\n",
        "modulus_hex = modulus_bytes.hex()\n",
        "\n",
        "# Construct the Certificate Transparency log search URL\n",
        "ct_url = f'https://crt.sh/?q={modulus_hex}'\n",
        "\n",
        "# Print the Certificate Transparency search URL\n",
        "print(\"Certificate Transparency Search URL:\", ct_url)\n",
        "\n",
        "# Make a request to the Certificate Transparency log search URL\n",
        "response = requests.get(ct_url)\n",
        "\n",
        "# Check if the request was successful\n",
        "if response.status_code == 200:\n",
        "    # Extract subdomains from the HTML response\n",
        "    subdomains = set(response.text.split('<BR>'))\n",
        "    print(\"Subdomains:\")\n",
        "    for subdomain in subdomains:\n",
        "        print(subdomain)\n",
        "else:\n",
        "    print(\"Failed to fetch Certificate Transparency data.\")\n",
        "\n",
        "\n",
        "# Read the RSA public key\n",
        "with open(rsa_public_key_file, 'rb') as f:\n",
        "    rsa_public_key_data = f.read()\n",
        "\n",
        "# Extract the modulus (n) from the RSA public key\n",
        "modulus_base64 = rsa_public_key_data.split(b'\\n')[1]\n",
        "modulus_bytes = base64.b64decode(modulus_base64)\n",
        "modulus_hex = modulus_bytes.hex()\n",
        "\n",
        "# Construct the Certificate Transparency log search URL\n",
        "ct_url = f'https://crt.sh/?q={modulus_hex}'\n",
        "\n",
        "# Print the Certificate Transparency search URL\n",
        "print(\"Certificate Transparency Search URL:\", ct_url)\n",
        "\n",
        "# Make a request to the Certificate Transparency log search URL\n",
        "response = requests.get(ct_url)\n",
        "\n",
        "# Check if the request was successful\n",
        "if response.status_code == 200:\n",
        "    # Extract subdomains from the HTML response\n",
        "    subdomains = set(response.text.split('<BR>'))\n",
        "    print(f\"Flag: {subdomain}\")\n",
        "    for subdomain in subdomains:\n",
        "        print(subdomain)\n",
        "else:\n",
        "    print(\"Failed to fetch Certificate Transparency data.\")\n"
      ],
      "metadata": {
        "id": "SU3L8KIbH5k6"
      },
      "execution_count": null,
      "outputs": []
    },
    {
      "cell_type": "code",
      "source": [
        "import os\n",
        "import socket\n",
        "import ssl\n",
        "import concurrent.futures\n",
        "from cryptography.hazmat.primitives import serialization\n",
        "from urllib.parse import urlparse\n",
        "\n",
        "\n",
        "def get_tls_parameters(host):\n",
        "    try:\n",
        "        context = ssl.create_default_context()\n",
        "        context.load_verify_locations('/content/transparency_afff0345c6f99bf80eab5895458d8eab.pem')\n",
        "\n",
        "        with socket.create_connection((host, 443)) as sock:\n",
        "            with context.wrap_socket(sock, server_hostname=host) as ssock:\n",
        "                print(ssock.getpeercert(binary_form=True))\n",
        "                return ssock.getpeercert(binary_form=True)\n",
        "    except Exception as e:\n",
        "        print(e)\n",
        "\n",
        "def find_subdomain(key):\n",
        "    domain = \"cryptohack.org\"\n",
        "    port = 443\n",
        "\n",
        "    ctx = ssl.create_default_context()\n",
        "    ctx.check_hostname = False\n",
        "    ctx.verify_mode = ssl.CERT_NONE\n",
        "\n",
        "    with socket.create_connection((domain, port)) as sock:\n",
        "        with ctx.wrap_socket(sock, server_hostname=domain) as ssock:\n",
        "            for i in range(1, 255):\n",
        "                subdomain = f\"{i}.{domain}\"\n",
        "                try:\n",
        "                    ssock.connect((subdomain, port))\n",
        "                    cert = ssock.getpeercert(binary_form=True)\n",
        "                    if cert['subjectPublicKeyInfo'] == key:\n",
        "                        return subdomain\n",
        "                except ssl.SSLError:\n",
        "                    pass\n",
        "\n",
        "    return None\n",
        "\n",
        "if __name__ == \"__main__\":\n",
        "    public_key = get_tls_parameters(\"cryptohack.org\")\n",
        "    domain = \"cryptohack.org\"\n",
        "    port = 443\n",
        "\n",
        "    ctx = ssl.create_default_context()\n",
        "    ctx.check_hostname = False\n",
        "    ctx.verify_mode = ssl.CERT_NONE\n",
        "\n",
        "    with concurrent.futures.ThreadPoolExecutor() as executor:\n",
        "        future_to_subdomain = {executor.submit(find_subdomain, public_key, subdomain): subdomain for subdomain in range(1, 255)}\n",
        "        for future in concurrent.futures.as_completed(future_to_subdomain):\n",
        "            subdomain = future_to_subdomain[future]\n",
        "            try:\n",
        "                data = future.result()\n",
        "            except Exception as exc:\n",
        "                print(f'{subdomain} generated an exception: {exc}')\n",
        "            else:\n",
        "                if data:\n",
        "                    print(f\"Flag: {data}\")\n",
        "                    break\n",
        "                else:\n",
        "                    print(f\"Subdomain {subdomain} not found\")"
      ],
      "metadata": {
        "colab": {
          "base_uri": "https://localhost:8080/"
        },
        "id": "4ajcJtAJNw0g",
        "outputId": "dde1d6f1-4388-4ded-dfd7-0a8a20180b12"
      },
      "execution_count": null,
      "outputs": [
        {
          "output_type": "stream",
          "name": "stdout",
          "text": [
            "[X509: NO_CERTIFICATE_OR_CRL_FOUND] no certificate or crl found (_ssl.c:4149)\n",
            "1 generated an exception: find_subdomain() takes 1 positional argument but 2 were given\n",
            "11 generated an exception: find_subdomain() takes 1 positional argument but 2 were given\n",
            "3 generated an exception: find_subdomain() takes 1 positional argument but 2 were given\n",
            "16 generated an exception: find_subdomain() takes 1 positional argument but 2 were given\n",
            "8 generated an exception: find_subdomain() takes 1 positional argument but 2 were given\n",
            "10 generated an exception: find_subdomain() takes 1 positional argument but 2 were given\n",
            "19 generated an exception: find_subdomain() takes 1 positional argument but 2 were given\n",
            "4 generated an exception: find_subdomain() takes 1 positional argument but 2 were given\n",
            "14 generated an exception: find_subdomain() takes 1 positional argument but 2 were given\n",
            "15 generated an exception: find_subdomain() takes 1 positional argument but 2 were given\n",
            "18 generated an exception: find_subdomain() takes 1 positional argument but 2 were given\n",
            "13 generated an exception: find_subdomain() takes 1 positional argument but 2 were given\n",
            "7 generated an exception: find_subdomain() takes 1 positional argument but 2 were given\n",
            "5 generated an exception: find_subdomain() takes 1 positional argument but 2 were given\n",
            "12 generated an exception: find_subdomain() takes 1 positional argument but 2 were given\n",
            "9 generated an exception: find_subdomain() takes 1 positional argument but 2 were given\n",
            "6 generated an exception: find_subdomain() takes 1 positional argument but 2 were given\n",
            "17 generated an exception: find_subdomain() takes 1 positional argument but 2 were given\n",
            "2 generated an exception: find_subdomain() takes 1 positional argument but 2 were given\n",
            "21 generated an exception: find_subdomain() takes 1 positional argument but 2 were given\n",
            "20 generated an exception: find_subdomain() takes 1 positional argument but 2 were given\n",
            "22 generated an exception: find_subdomain() takes 1 positional argument but 2 were given\n",
            "23 generated an exception: find_subdomain() takes 1 positional argument but 2 were given\n",
            "24 generated an exception: find_subdomain() takes 1 positional argument but 2 were given\n",
            "25 generated an exception: find_subdomain() takes 1 positional argument but 2 were given\n",
            "26 generated an exception: find_subdomain() takes 1 positional argument but 2 were given\n",
            "27 generated an exception: find_subdomain() takes 1 positional argument but 2 were given\n",
            "28 generated an exception: find_subdomain() takes 1 positional argument but 2 were given\n",
            "29 generated an exception: find_subdomain() takes 1 positional argument but 2 were given\n",
            "30 generated an exception: find_subdomain() takes 1 positional argument but 2 were given\n",
            "31 generated an exception: find_subdomain() takes 1 positional argument but 2 were given\n",
            "32 generated an exception: find_subdomain() takes 1 positional argument but 2 were given\n",
            "33 generated an exception: find_subdomain() takes 1 positional argument but 2 were given\n",
            "34 generated an exception: find_subdomain() takes 1 positional argument but 2 were given\n",
            "35 generated an exception: find_subdomain() takes 1 positional argument but 2 were given\n",
            "36 generated an exception: find_subdomain() takes 1 positional argument but 2 were given\n",
            "37 generated an exception: find_subdomain() takes 1 positional argument but 2 were given\n",
            "38 generated an exception: find_subdomain() takes 1 positional argument but 2 were given\n",
            "39 generated an exception: find_subdomain() takes 1 positional argument but 2 were given\n",
            "40 generated an exception: find_subdomain() takes 1 positional argument but 2 were given\n",
            "41 generated an exception: find_subdomain() takes 1 positional argument but 2 were given\n",
            "42 generated an exception: find_subdomain() takes 1 positional argument but 2 were given\n",
            "43 generated an exception: find_subdomain() takes 1 positional argument but 2 were given\n",
            "44 generated an exception: find_subdomain() takes 1 positional argument but 2 were given\n",
            "45 generated an exception: find_subdomain() takes 1 positional argument but 2 were given\n",
            "46 generated an exception: find_subdomain() takes 1 positional argument but 2 were given\n",
            "47 generated an exception: find_subdomain() takes 1 positional argument but 2 were given\n",
            "48 generated an exception: find_subdomain() takes 1 positional argument but 2 were given\n",
            "49 generated an exception: find_subdomain() takes 1 positional argument but 2 were given\n",
            "50 generated an exception: find_subdomain() takes 1 positional argument but 2 were given\n",
            "51 generated an exception: find_subdomain() takes 1 positional argument but 2 were given\n",
            "52 generated an exception: find_subdomain() takes 1 positional argument but 2 were given\n",
            "53 generated an exception: find_subdomain() takes 1 positional argument but 2 were given\n",
            "54 generated an exception: find_subdomain() takes 1 positional argument but 2 were given\n",
            "55 generated an exception: find_subdomain() takes 1 positional argument but 2 were given\n",
            "56 generated an exception: find_subdomain() takes 1 positional argument but 2 were given\n",
            "57 generated an exception: find_subdomain() takes 1 positional argument but 2 were given\n",
            "58 generated an exception: find_subdomain() takes 1 positional argument but 2 were given\n",
            "59 generated an exception: find_subdomain() takes 1 positional argument but 2 were given\n",
            "60 generated an exception: find_subdomain() takes 1 positional argument but 2 were given\n",
            "61 generated an exception: find_subdomain() takes 1 positional argument but 2 were given\n",
            "62 generated an exception: find_subdomain() takes 1 positional argument but 2 were given\n",
            "63 generated an exception: find_subdomain() takes 1 positional argument but 2 were given\n",
            "64 generated an exception: find_subdomain() takes 1 positional argument but 2 were given\n",
            "65 generated an exception: find_subdomain() takes 1 positional argument but 2 were given\n",
            "66 generated an exception: find_subdomain() takes 1 positional argument but 2 were given\n",
            "67 generated an exception: find_subdomain() takes 1 positional argument but 2 were given\n",
            "68 generated an exception: find_subdomain() takes 1 positional argument but 2 were given\n",
            "69 generated an exception: find_subdomain() takes 1 positional argument but 2 were given\n",
            "70 generated an exception: find_subdomain() takes 1 positional argument but 2 were given\n",
            "71 generated an exception: find_subdomain() takes 1 positional argument but 2 were given\n",
            "72 generated an exception: find_subdomain() takes 1 positional argument but 2 were given\n",
            "73 generated an exception: find_subdomain() takes 1 positional argument but 2 were given\n",
            "74 generated an exception: find_subdomain() takes 1 positional argument but 2 were given\n",
            "75 generated an exception: find_subdomain() takes 1 positional argument but 2 were given\n",
            "76 generated an exception: find_subdomain() takes 1 positional argument but 2 were given\n",
            "77 generated an exception: find_subdomain() takes 1 positional argument but 2 were given\n",
            "78 generated an exception: find_subdomain() takes 1 positional argument but 2 were given\n",
            "79 generated an exception: find_subdomain() takes 1 positional argument but 2 were given\n",
            "80 generated an exception: find_subdomain() takes 1 positional argument but 2 were given\n",
            "81 generated an exception: find_subdomain() takes 1 positional argument but 2 were given\n",
            "82 generated an exception: find_subdomain() takes 1 positional argument but 2 were given\n",
            "83 generated an exception: find_subdomain() takes 1 positional argument but 2 were given\n",
            "84 generated an exception: find_subdomain() takes 1 positional argument but 2 were given\n",
            "85 generated an exception: find_subdomain() takes 1 positional argument but 2 were given\n",
            "86 generated an exception: find_subdomain() takes 1 positional argument but 2 were given\n",
            "87 generated an exception: find_subdomain() takes 1 positional argument but 2 were given\n",
            "88 generated an exception: find_subdomain() takes 1 positional argument but 2 were given\n",
            "89 generated an exception: find_subdomain() takes 1 positional argument but 2 were given\n",
            "90 generated an exception: find_subdomain() takes 1 positional argument but 2 were given\n",
            "91 generated an exception: find_subdomain() takes 1 positional argument but 2 were given\n",
            "92 generated an exception: find_subdomain() takes 1 positional argument but 2 were given\n",
            "93 generated an exception: find_subdomain() takes 1 positional argument but 2 were given\n",
            "94 generated an exception: find_subdomain() takes 1 positional argument but 2 were given\n",
            "95 generated an exception: find_subdomain() takes 1 positional argument but 2 were given\n",
            "96 generated an exception: find_subdomain() takes 1 positional argument but 2 were given\n",
            "97 generated an exception: find_subdomain() takes 1 positional argument but 2 were given\n",
            "98 generated an exception: find_subdomain() takes 1 positional argument but 2 were given\n",
            "99 generated an exception: find_subdomain() takes 1 positional argument but 2 were given\n",
            "100 generated an exception: find_subdomain() takes 1 positional argument but 2 were given\n",
            "101 generated an exception: find_subdomain() takes 1 positional argument but 2 were given\n",
            "102 generated an exception: find_subdomain() takes 1 positional argument but 2 were given\n",
            "103 generated an exception: find_subdomain() takes 1 positional argument but 2 were given\n",
            "104 generated an exception: find_subdomain() takes 1 positional argument but 2 were given\n",
            "105 generated an exception: find_subdomain() takes 1 positional argument but 2 were given\n",
            "106 generated an exception: find_subdomain() takes 1 positional argument but 2 were given\n",
            "107 generated an exception: find_subdomain() takes 1 positional argument but 2 were given\n",
            "108 generated an exception: find_subdomain() takes 1 positional argument but 2 were given\n",
            "109 generated an exception: find_subdomain() takes 1 positional argument but 2 were given\n",
            "110 generated an exception: find_subdomain() takes 1 positional argument but 2 were given\n",
            "111 generated an exception: find_subdomain() takes 1 positional argument but 2 were given\n",
            "112 generated an exception: find_subdomain() takes 1 positional argument but 2 were given\n",
            "113 generated an exception: find_subdomain() takes 1 positional argument but 2 were given\n",
            "114 generated an exception: find_subdomain() takes 1 positional argument but 2 were given\n",
            "115 generated an exception: find_subdomain() takes 1 positional argument but 2 were given\n",
            "116 generated an exception: find_subdomain() takes 1 positional argument but 2 were given\n",
            "117 generated an exception: find_subdomain() takes 1 positional argument but 2 were given\n",
            "118 generated an exception: find_subdomain() takes 1 positional argument but 2 were given\n",
            "119 generated an exception: find_subdomain() takes 1 positional argument but 2 were given\n",
            "120 generated an exception: find_subdomain() takes 1 positional argument but 2 were given\n",
            "121 generated an exception: find_subdomain() takes 1 positional argument but 2 were given\n",
            "122 generated an exception: find_subdomain() takes 1 positional argument but 2 were given\n",
            "123 generated an exception: find_subdomain() takes 1 positional argument but 2 were given\n",
            "124 generated an exception: find_subdomain() takes 1 positional argument but 2 were given\n",
            "125 generated an exception: find_subdomain() takes 1 positional argument but 2 were given\n",
            "126 generated an exception: find_subdomain() takes 1 positional argument but 2 were given\n",
            "127 generated an exception: find_subdomain() takes 1 positional argument but 2 were given\n",
            "128 generated an exception: find_subdomain() takes 1 positional argument but 2 were given\n",
            "129 generated an exception: find_subdomain() takes 1 positional argument but 2 were given\n",
            "130 generated an exception: find_subdomain() takes 1 positional argument but 2 were given\n",
            "131 generated an exception: find_subdomain() takes 1 positional argument but 2 were given\n",
            "132 generated an exception: find_subdomain() takes 1 positional argument but 2 were given\n",
            "133 generated an exception: find_subdomain() takes 1 positional argument but 2 were given\n",
            "134 generated an exception: find_subdomain() takes 1 positional argument but 2 were given\n",
            "135 generated an exception: find_subdomain() takes 1 positional argument but 2 were given\n",
            "136 generated an exception: find_subdomain() takes 1 positional argument but 2 were given\n",
            "137 generated an exception: find_subdomain() takes 1 positional argument but 2 were given\n",
            "138 generated an exception: find_subdomain() takes 1 positional argument but 2 were given\n",
            "139 generated an exception: find_subdomain() takes 1 positional argument but 2 were given\n",
            "140 generated an exception: find_subdomain() takes 1 positional argument but 2 were given\n",
            "141 generated an exception: find_subdomain() takes 1 positional argument but 2 were given\n",
            "142 generated an exception: find_subdomain() takes 1 positional argument but 2 were given\n",
            "143 generated an exception: find_subdomain() takes 1 positional argument but 2 were given\n",
            "144 generated an exception: find_subdomain() takes 1 positional argument but 2 were given\n",
            "145 generated an exception: find_subdomain() takes 1 positional argument but 2 were given\n",
            "146 generated an exception: find_subdomain() takes 1 positional argument but 2 were given\n",
            "147 generated an exception: find_subdomain() takes 1 positional argument but 2 were given\n",
            "148 generated an exception: find_subdomain() takes 1 positional argument but 2 were given\n",
            "149 generated an exception: find_subdomain() takes 1 positional argument but 2 were given\n",
            "150 generated an exception: find_subdomain() takes 1 positional argument but 2 were given\n",
            "151 generated an exception: find_subdomain() takes 1 positional argument but 2 were given\n",
            "152 generated an exception: find_subdomain() takes 1 positional argument but 2 were given\n",
            "153 generated an exception: find_subdomain() takes 1 positional argument but 2 were given\n",
            "154 generated an exception: find_subdomain() takes 1 positional argument but 2 were given\n",
            "155 generated an exception: find_subdomain() takes 1 positional argument but 2 were given\n",
            "156 generated an exception: find_subdomain() takes 1 positional argument but 2 were given\n",
            "157 generated an exception: find_subdomain() takes 1 positional argument but 2 were given\n",
            "158 generated an exception: find_subdomain() takes 1 positional argument but 2 were given\n",
            "159 generated an exception: find_subdomain() takes 1 positional argument but 2 were given\n",
            "160 generated an exception: find_subdomain() takes 1 positional argument but 2 were given\n",
            "161 generated an exception: find_subdomain() takes 1 positional argument but 2 were given\n",
            "162 generated an exception: find_subdomain() takes 1 positional argument but 2 were given\n",
            "163 generated an exception: find_subdomain() takes 1 positional argument but 2 were given\n",
            "164 generated an exception: find_subdomain() takes 1 positional argument but 2 were given\n",
            "165 generated an exception: find_subdomain() takes 1 positional argument but 2 were given\n",
            "166 generated an exception: find_subdomain() takes 1 positional argument but 2 were given\n",
            "167 generated an exception: find_subdomain() takes 1 positional argument but 2 were given\n",
            "168 generated an exception: find_subdomain() takes 1 positional argument but 2 were given\n",
            "169 generated an exception: find_subdomain() takes 1 positional argument but 2 were given\n",
            "170 generated an exception: find_subdomain() takes 1 positional argument but 2 were given\n",
            "171 generated an exception: find_subdomain() takes 1 positional argument but 2 were given\n",
            "172 generated an exception: find_subdomain() takes 1 positional argument but 2 were given\n",
            "173 generated an exception: find_subdomain() takes 1 positional argument but 2 were given\n",
            "174 generated an exception: find_subdomain() takes 1 positional argument but 2 were given\n",
            "175 generated an exception: find_subdomain() takes 1 positional argument but 2 were given\n",
            "176 generated an exception: find_subdomain() takes 1 positional argument but 2 were given\n",
            "177 generated an exception: find_subdomain() takes 1 positional argument but 2 were given\n",
            "178 generated an exception: find_subdomain() takes 1 positional argument but 2 were given\n",
            "179 generated an exception: find_subdomain() takes 1 positional argument but 2 were given\n",
            "180 generated an exception: find_subdomain() takes 1 positional argument but 2 were given\n",
            "181 generated an exception: find_subdomain() takes 1 positional argument but 2 were given\n",
            "182 generated an exception: find_subdomain() takes 1 positional argument but 2 were given\n",
            "183 generated an exception: find_subdomain() takes 1 positional argument but 2 were given\n",
            "184 generated an exception: find_subdomain() takes 1 positional argument but 2 were given\n",
            "185 generated an exception: find_subdomain() takes 1 positional argument but 2 were given\n",
            "186 generated an exception: find_subdomain() takes 1 positional argument but 2 were given\n",
            "187 generated an exception: find_subdomain() takes 1 positional argument but 2 were given\n",
            "188 generated an exception: find_subdomain() takes 1 positional argument but 2 were given\n",
            "189 generated an exception: find_subdomain() takes 1 positional argument but 2 were given\n",
            "190 generated an exception: find_subdomain() takes 1 positional argument but 2 were given\n",
            "191 generated an exception: find_subdomain() takes 1 positional argument but 2 were given\n",
            "192 generated an exception: find_subdomain() takes 1 positional argument but 2 were given\n",
            "193 generated an exception: find_subdomain() takes 1 positional argument but 2 were given\n",
            "194 generated an exception: find_subdomain() takes 1 positional argument but 2 were given\n",
            "195 generated an exception: find_subdomain() takes 1 positional argument but 2 were given\n",
            "196 generated an exception: find_subdomain() takes 1 positional argument but 2 were given\n",
            "197 generated an exception: find_subdomain() takes 1 positional argument but 2 were given\n",
            "198 generated an exception: find_subdomain() takes 1 positional argument but 2 were given\n",
            "199 generated an exception: find_subdomain() takes 1 positional argument but 2 were given\n",
            "200 generated an exception: find_subdomain() takes 1 positional argument but 2 were given\n",
            "201 generated an exception: find_subdomain() takes 1 positional argument but 2 were given\n",
            "202 generated an exception: find_subdomain() takes 1 positional argument but 2 were given\n",
            "203 generated an exception: find_subdomain() takes 1 positional argument but 2 were given\n",
            "204 generated an exception: find_subdomain() takes 1 positional argument but 2 were given\n",
            "205 generated an exception: find_subdomain() takes 1 positional argument but 2 were given\n",
            "206 generated an exception: find_subdomain() takes 1 positional argument but 2 were given\n",
            "207 generated an exception: find_subdomain() takes 1 positional argument but 2 were given\n",
            "208 generated an exception: find_subdomain() takes 1 positional argument but 2 were given\n",
            "209 generated an exception: find_subdomain() takes 1 positional argument but 2 were given\n",
            "210 generated an exception: find_subdomain() takes 1 positional argument but 2 were given\n",
            "211 generated an exception: find_subdomain() takes 1 positional argument but 2 were given\n",
            "212 generated an exception: find_subdomain() takes 1 positional argument but 2 were given\n",
            "213 generated an exception: find_subdomain() takes 1 positional argument but 2 were given\n",
            "214 generated an exception: find_subdomain() takes 1 positional argument but 2 were given\n",
            "215 generated an exception: find_subdomain() takes 1 positional argument but 2 were given\n",
            "216 generated an exception: find_subdomain() takes 1 positional argument but 2 were given\n",
            "217 generated an exception: find_subdomain() takes 1 positional argument but 2 were given\n",
            "218 generated an exception: find_subdomain() takes 1 positional argument but 2 were given\n",
            "219 generated an exception: find_subdomain() takes 1 positional argument but 2 were given\n",
            "220 generated an exception: find_subdomain() takes 1 positional argument but 2 were given\n",
            "221 generated an exception: find_subdomain() takes 1 positional argument but 2 were given\n",
            "222 generated an exception: find_subdomain() takes 1 positional argument but 2 were given\n",
            "223 generated an exception: find_subdomain() takes 1 positional argument but 2 were given\n",
            "224 generated an exception: find_subdomain() takes 1 positional argument but 2 were given\n",
            "225 generated an exception: find_subdomain() takes 1 positional argument but 2 were given\n",
            "226 generated an exception: find_subdomain() takes 1 positional argument but 2 were given\n",
            "227 generated an exception: find_subdomain() takes 1 positional argument but 2 were given\n",
            "228 generated an exception: find_subdomain() takes 1 positional argument but 2 were given\n",
            "229 generated an exception: find_subdomain() takes 1 positional argument but 2 were given\n",
            "230 generated an exception: find_subdomain() takes 1 positional argument but 2 were given\n",
            "231 generated an exception: find_subdomain() takes 1 positional argument but 2 were given\n",
            "232 generated an exception: find_subdomain() takes 1 positional argument but 2 were given\n",
            "233 generated an exception: find_subdomain() takes 1 positional argument but 2 were given\n",
            "234 generated an exception: find_subdomain() takes 1 positional argument but 2 were given\n",
            "235 generated an exception: find_subdomain() takes 1 positional argument but 2 were given\n",
            "236 generated an exception: find_subdomain() takes 1 positional argument but 2 were given\n",
            "237 generated an exception: find_subdomain() takes 1 positional argument but 2 were given\n",
            "238 generated an exception: find_subdomain() takes 1 positional argument but 2 were given\n",
            "239 generated an exception: find_subdomain() takes 1 positional argument but 2 were given\n",
            "240 generated an exception: find_subdomain() takes 1 positional argument but 2 were given\n",
            "241 generated an exception: find_subdomain() takes 1 positional argument but 2 were given\n",
            "242 generated an exception: find_subdomain() takes 1 positional argument but 2 were given\n",
            "243 generated an exception: find_subdomain() takes 1 positional argument but 2 were given\n",
            "244 generated an exception: find_subdomain() takes 1 positional argument but 2 were given\n",
            "245 generated an exception: find_subdomain() takes 1 positional argument but 2 were given\n",
            "246 generated an exception: find_subdomain() takes 1 positional argument but 2 were given\n",
            "247 generated an exception: find_subdomain() takes 1 positional argument but 2 were given\n",
            "248 generated an exception: find_subdomain() takes 1 positional argument but 2 were given\n",
            "249 generated an exception: find_subdomain() takes 1 positional argument but 2 were given\n",
            "250 generated an exception: find_subdomain() takes 1 positional argument but 2 were given\n",
            "251 generated an exception: find_subdomain() takes 1 positional argument but 2 were given\n",
            "252 generated an exception: find_subdomain() takes 1 positional argument but 2 were given\n",
            "253 generated an exception: find_subdomain() takes 1 positional argument but 2 were given\n",
            "254 generated an exception: find_subdomain() takes 1 positional argument but 2 were given\n"
          ]
        }
      ]
    },
    {
      "cell_type": "code",
      "source": [
        "p = 29\n",
        "ints = [14, 6, 11]\n",
        "\n",
        "def is_quadratic_residue(x, p):\n",
        "    # Check if x is a quadratic residue modulo p\n",
        "    for a in range(1, p):\n",
        "        if (a**2) % p == x:\n",
        "            return True\n",
        "    return False\n",
        "\n",
        "def find_square_root(x, p):\n",
        "    # Find the square roots of x modulo p\n",
        "    roots = []\n",
        "    for a in range(1, p):\n",
        "        if (a**2) % p == x:\n",
        "            roots.append(a)\n",
        "    return roots\n",
        "\n",
        "# Find the quadratic residue in the given list\n",
        "quadratic_residue = None\n",
        "for x in ints:\n",
        "    if is_quadratic_residue(x, p):\n",
        "        quadratic_residue = x\n",
        "        break\n",
        "\n",
        "# Calculate the square root of the quadratic residue\n",
        "if quadratic_residue is not None:\n",
        "    roots = find_square_root(quadratic_residue, p)\n",
        "    if len(roots) >= 1:\n",
        "        flag = min(roots)\n",
        "        print(\"The smaller square root:\", flag)\n",
        "    else:\n",
        "        print(\"No square root found.\")\n",
        "else:\n",
        "    print(\"No quadratic residue found in the given list.\")\n",
        "\n"
      ],
      "metadata": {
        "colab": {
          "base_uri": "https://localhost:8080/"
        },
        "id": "KrTrDh4rZpJc",
        "outputId": "8e61b6c9-c4c7-454e-83f1-0e190b7a9984"
      },
      "execution_count": null,
      "outputs": [
        {
          "output_type": "stream",
          "name": "stdout",
          "text": [
            "The smaller square root: 8\n"
          ]
        }
      ]
    },
    {
      "cell_type": "code",
      "source": [
        "p = 101524035174539890485408575671085261788758965189060164484385690801466167356667036677932998889725476582421738788500738738503134356158197247473850273565349249573867251280253564698939768700489401960767007716413932851838937641880157263936985954881657889497583485535527613578457628399173971810541670838543309159139\n",
        "\n",
        "ints = [25081841204695904475894082974192007718642931811040324543182130088804239047149283334700530600468528298920930150221871666297194395061462592781551275161695411167049544771049769000895119729307495913024360169904315078028798025169985966732789207320203861858234048872508633514498384390497048416012928086480326832803, 45471765180330439060504647480621449634904192839383897212809808339619841633826534856109999027962620381874878086991125854247108359699799913776917227058286090426484548349388138935504299609200377899052716663351188664096302672712078508601311725863678223874157861163196340391008634419348573975841578359355931590555, 17364140182001694956465593533200623738590196990236340894554145562517924989208719245429557645254953527658049246737589538280332010533027062477684237933221198639948938784244510469138826808187365678322547992099715229218615475923754896960363138890331502811292427146595752813297603265829581292183917027983351121325, 14388109104985808487337749876058284426747816961971581447380608277949200244660381570568531129775053684256071819837294436069133592772543582735985855506250660938574234958754211349215293281645205354069970790155237033436065434572020652955666855773232074749487007626050323967496732359278657193580493324467258802863, 4379499308310772821004090447650785095356643590411706358119239166662089428685562719233435615196994728767593223519226235062647670077854687031681041462632566890129595506430188602238753450337691441293042716909901692570971955078924699306873191983953501093343423248482960643055943413031768521782634679536276233318, 85256449776780591202928235662805033201684571648990042997557084658000067050672130152734911919581661523957075992761662315262685030115255938352540032297113615687815976039390537716707854569980516690246592112936796917504034711418465442893323439490171095447109457355598873230115172636184525449905022174536414781771, 50576597458517451578431293746926099486388286246142012476814190030935689430726042810458344828563913001012415702876199708216875020997112089693759638454900092580746638631062117961876611545851157613835724635005253792316142379239047654392970415343694657580353333217547079551304961116837545648785312490665576832987, 96868738830341112368094632337476840272563704408573054404213766500407517251810212494515862176356916912627172280446141202661640191237336568731069327906100896178776245311689857997012187599140875912026589672629935267844696976980890380730867520071059572350667913710344648377601017758188404474812654737363275994871, 4881261656846638800623549662943393234361061827128610120046315649707078244180313661063004390750821317096754282796876479695558644108492317407662131441224257537276274962372021273583478509416358764706098471849536036184924640593888902859441388472856822541452041181244337124767666161645827145408781917658423571721, 18237936726367556664171427575475596460727369368246286138804284742124256700367133250078608537129877968287885457417957868580553371999414227484737603688992620953200143688061024092623556471053006464123205133894607923801371986027458274343737860395496260538663183193877539815179246700525865152165600985105257601565]\n",
        "\n",
        "a = 0\n",
        "for i in ints:\n",
        "    if pow(i,(p-1)//2,p) == 1:\n",
        "        a = i\n",
        "        break\n",
        "\n",
        "print(pow(a,(p+1)//4,p))\n"
      ],
      "metadata": {
        "colab": {
          "base_uri": "https://localhost:8080/"
        },
        "id": "pSMZfssVbR8U",
        "outputId": "fdec9d97-ba6e-4973-e3be-9ed4543c0ca0"
      },
      "execution_count": null,
      "outputs": [
        {
          "output_type": "stream",
          "name": "stdout",
          "text": [
            "93291799125366706806545638475797430512104976066103610269938025709952247020061090804870186195285998727680200979853848718589126765742550855954805290253592144209552123062161458584575060939481368210688629862036958857604707468372384278049741369153506182660264876115428251983455344219194133033177700490981696141526\n"
          ]
        }
      ]
    },
    {
      "cell_type": "code",
      "source": [
        "def ChineseRemainderGauss(n,N,a):\n",
        "  # n is the list of moduli\n",
        "  # N is the product of all moduli\n",
        "  # a is the list of remainders\n",
        "  # x is the solution\n",
        "  x = 0\n",
        "  for i in range(len(n)):\n",
        "      ai = a[i]\n",
        "      ni = N//n[i]\n",
        "      x += ai * ni * invmod(bi,n[i])\n",
        "  return x%N\n",
        "\n",
        "def invmod(x, y):\n",
        "  x0, x1, y0, y1 = 1, 0, 0, 1\n",
        "  while y > 0:\n",
        "      q, x, y = math.floor(x / y), y, x % y\n",
        "      x0, x1 = x1, x0 - q * x1\n",
        "      y0, y1 = y1, y0 - q * y1\n",
        "  return x0 % y"
      ],
      "metadata": {
        "id": "OadvUc3lbkQN"
      },
      "execution_count": null,
      "outputs": []
    },
    {
      "cell_type": "code",
      "source": [
        "def invmod(x, y):\n",
        "  x0, x1, y0, y1 = 1, 0, 0, 1\n",
        "  while y > 0:\n",
        "      q, x, y = math.floor(x / y), y, x % y\n",
        "      x0, x1 = x1, x0 - q * x1\n",
        "      y0, y1 = y1, y0 - q * y1\n",
        "  return x0 % y\n"
      ],
      "metadata": {
        "id": "eHJyuql6bnF8"
      },
      "execution_count": null,
      "outputs": []
    },
    {
      "cell_type": "code",
      "source": [
        "encFlag = [67594220461269, 501237540280788, 718316769824518, 296304224247167, 48290626940198, 30829701196032, 521453693392074, 840985324383794, 770420008897119, 745131486581197, 729163531979577, 334563813238599, 289746215495432, 538664937794468, 894085795317163, 983410189487558, 863330928724430, 996272871140947, 352175210511707, 306237700811584, 631393408838583, 589243747914057, 538776819034934, 365364592128161, 454970171810424, 986711310037393, 657756453404881, 388329936724352, 90991447679370, 714742162831112, 62293519842555, 653941126489711, 448552658212336, 970169071154259, 339472870407614, 406225588145372, 205721593331090, 926225022409823, 904451547059845, 789074084078342, 886420071481685, 796827329208633, 433047156347276, 21271315846750, 719248860593631, 534059295222748, 879864647580512, 918055794962142, 635545050939893, 319549343320339, 93008646178282, 926080110625306, 385476640825005, 483740420173050, 866208659796189, 883359067574584, 913405110264883, 898864873510337, 208598541987988, 23412800024088, 911541450703474, 57446699305445, 513296484586451, 180356843554043, 756391301483653, 823695939808936, 452898981558365, 383286682802447, 381394258915860, 385482809649632, 357950424436020, 212891024562585, 906036654538589, 706766032862393, 500658491083279, 134746243085697, 240386541491998, 850341345692155, 826490944132718, 329513332018620, 41046816597282, 396581286424992, 488863267297267, 92023040998362, 529684488438507, 925328511390026, 524897846090435, 413156582909097, 840524616502482, 325719016994120, 402494835113608, 145033960690364, 43932113323388, 683561775499473, 434510534220939, 92584300328516, 763767269974656, 289837041593468, 11468527450938, 628247946152943, 8844724571683, 813851806959975, 72001988637120, 875394575395153, 70667866716476, 75304931994100, 226809172374264, 767059176444181, 45462007920789, 472607315695803, 325973946551448, 64200767729194, 534886246409921, 950408390792175, 492288777130394, 226746605380806, 944479111810431, 776057001143579, 658971626589122, 231918349590349, 699710172246548, 122457405264610, 643115611310737, 999072890586878, 203230862786955, 348112034218733, 240143417330886, 927148962961842, 661569511006072, 190334725550806, 763365444730995, 516228913786395, 846501182194443, 741210200995504, 511935604454925, 687689993302203, 631038090127480, 961606522916414, 138550017953034, 932105540686829, 215285284639233, 772628158955819, 496858298527292, 730971468815108, 896733219370353, 967083685727881, 607660822695530, 650953466617730, 133773994258132, 623283311953090, 436380836970128, 237114930094468, 115451711811481, 674593269112948, 140400921371770, 659335660634071, 536749311958781, 854645598266824, 303305169095255, 91430489108219, 573739385205188, 400604977158702, 728593782212529, 807432219147040, 893541884126828, 183964371201281, 422680633277230, 218817645778789, 313025293025224, 657253930848472, 747562211812373, 83456701182914, 470417289614736, 641146659305859, 468130225316006, 46960547227850, 875638267674897, 662661765336441, 186533085001285, 743250648436106, 451414956181714, 527954145201673, 922589993405001, 242119479617901, 865476357142231, 988987578447349, 430198555146088, 477890180119931, 844464003254807, 503374203275928, 775374254241792, 346653210679737, 789242808338116, 48503976498612, 604300186163323, 475930096252359, 860836853339514, 994513691290102, 591343659366796, 944852018048514, 82396968629164, 152776642436549, 916070996204621, 305574094667054, 981194179562189, 126174175810273, 55636640522694, 44670495393401, 74724541586529, 988608465654705, 870533906709633, 374564052429787, 486493568142979, 469485372072295, 221153171135022, 289713227465073, 952450431038075, 107298466441025, 938262809228861, 253919870663003, 835790485199226, 655456538877798, 595464842927075, 191621819564547]\n",
        "flag = \"\"\n",
        "a = 288260533169915\n",
        "p = 1007621497415251\n",
        "for ch in encFlag:\n",
        "    if pow(ch,(p-1)//2,p)==1:\n",
        "        flag += '1'\n",
        "    else:\n",
        "        flag += '0'\n",
        "flag\n",
        "ls = [chr(int(flag[i:i+8],2)) for i in range(0,len(flag),8)]\n",
        "result = \"\"\n",
        "for i in ls:\n",
        "    result += i\n",
        "print(result)"
      ],
      "metadata": {
        "colab": {
          "base_uri": "https://localhost:8080/"
        },
        "id": "AjU-A9Z7b8Pn",
        "outputId": "020934ef-253a-41ca-cc72-091aab9d9a1e"
      },
      "execution_count": null,
      "outputs": [
        {
          "output_type": "stream",
          "name": "stdout",
          "text": [
            "crypto{p4tterns_1n_re5idu3s}\n"
          ]
        }
      ]
    },
    {
      "cell_type": "code",
      "source": [
        "from mpmath import sqrt, mp\n",
        "\n",
        "# Set the precision to a sufficient level\n",
        "mp.dps = 2048\n",
        "\n",
        "# Given values\n",
        "a = 8479994658316772151941616510097127087554541274812435112009425778595495359700244470400642403747058566807127814165396640215844192327900454116257979487432016769329970767046735091249898678088061634796559556704959846424131820416048436501387617211770124292793308079214153179977624440438616958575058361193975686620046439877308339989295604537867493683872778843921771307305602776398786978353866231661453376056771972069776398999013769588936194859344941268223184197231368887060609212875507518936172060702209557124430477137421847130682601666968691651447236917018634902407704797328509461854842432015009878011354022108661461024768\n",
        "p = 30531851861994333252675935111487950694414332763909083514133769861350960895076504687261369815735742549428789138300843082086550059082835141454526618160634109969195486322015775943030060449557090064811940139431735209185996454739163555910726493597222646855506445602953689527405362207926990442391705014604777038685880527537489845359101552442292804398472642356609304810680731556542002301547846635101455995732584071355903010856718680732337369128498655255277003643669031694516851390505923416710601212618443109844041514942401969629158975457079026906304328749039997262960301209158175920051890620947063936347307238412281568760161\n",
        "\n",
        "# Tonelli-Shanks algorithm to find square root modulo p\n",
        "def tonelli_shanks(a, p):\n",
        "    # Check if a is a quadratic residue modulo p\n",
        "    if pow(a, (p - 1) // 2, p) != 1:\n",
        "        return None  # No square root exists\n",
        "\n",
        "    # Initialize variables\n",
        "    s = 0\n",
        "    q = p - 1\n",
        "    while q % 2 == 0:\n",
        "        q //= 2\n",
        "        s += 1\n",
        "\n",
        "    # Find a non-residue modulo p\n",
        "    z = 2\n",
        "    while pow(z, (p - 1) // 2, p) == 1:\n",
        "        z += 1\n",
        "\n",
        "    # Tonelli-Shanks algorithm\n",
        "    m = s\n",
        "    c = pow(z, q, p)\n",
        "    t = pow(a, q, p)\n",
        "    r = pow(a, (q + 1) // 2, p)\n",
        "    while t != 1:\n",
        "        for i in range(1, m):\n",
        "            if pow(t, 2**i, p) == 1:\n",
        "                break\n",
        "\n",
        "        b = pow(c, 2**(m - i - 1), p)\n",
        "        m = i\n",
        "        c = pow(b, 2, p)\n",
        "        t = (t * b * b) % p\n",
        "        r = (r * b) % p\n",
        "\n",
        "    return r, p - r  # Two roots, return both\n",
        "\n",
        "# Find the square roots using Tonelli-Shanks\n",
        "roots = tonelli_shanks(a, p)\n",
        "\n",
        "# Print the smaller root\n",
        "if roots is not None:\n",
        "    print(\"Smaller square root:\", min(roots))\n",
        "else:\n",
        "    print(\"No square root exists for the given values.\")\n",
        "\n",
        "\n"
      ],
      "metadata": {
        "colab": {
          "base_uri": "https://localhost:8080/"
        },
        "id": "Qi4Df54AcHp5",
        "outputId": "9fd647da-1309-4781-e256-3be13c967508"
      },
      "execution_count": null,
      "outputs": [
        {
          "output_type": "stream",
          "name": "stdout",
          "text": [
            "Smaller square root: 2362339307683048638327773298580489298932137505520500388338271052053734747862351779647314176817953359071871560041125289919247146074907151612762640868199621186559522068338032600991311882224016021222672243139362180461232646732465848840425458257930887856583379600967761738596782877851318489355679822813155123045705285112099448146426755110160002515592418850432103641815811071548456284263507805589445073657565381850521367969675699760755310784623577076440037747681760302434924932113640061738777601194622244192758024180853916244427254065441962557282572849162772740798989647948645207349737457445440405057156897508368531939120\n"
          ]
        }
      ]
    },
    {
      "cell_type": "code",
      "source": [
        "def extended_gcd(a, b):\n",
        "    if a == 0:\n",
        "        return b, 0, 1\n",
        "    else:\n",
        "        g, x, y = extended_gcd(b % a, a)\n",
        "        return g, y - (b // a) * x, x\n",
        "\n",
        "def modinv(a, m):\n",
        "    g, x, _ = extended_gcd(a, m)\n",
        "    if g != 1:\n",
        "        raise Exception('Modular inverse does not exist')\n",
        "    else:\n",
        "        return x % m\n",
        "\n",
        "def chinese_remainder_theorem(congruences):\n",
        "    N = 1\n",
        "    for n, _ in congruences:\n",
        "        N *= n\n",
        "\n",
        "    result = 0\n",
        "    for n_i, a_i in congruences:\n",
        "        N_i = N // n_i\n",
        "        y_i = modinv(N_i, n_i)\n",
        "        result += a_i * N_i * y_i\n",
        "\n",
        "    return result % N\n",
        "\n",
        "# Given congruences\n",
        "congruences = [(5, 2), (11, 3), (17, 5)]\n",
        "\n",
        "# Find the integer a\n",
        "a = chinese_remainder_theorem(congruences)\n",
        "print(\"The integer a is:\", a)\n"
      ],
      "metadata": {
        "colab": {
          "base_uri": "https://localhost:8080/"
        },
        "id": "aD403L7Uf0pV",
        "outputId": "8644a304-2015-40fd-937c-11c093003492"
      },
      "execution_count": null,
      "outputs": [
        {
          "output_type": "stream",
          "name": "stdout",
          "text": [
            "The integer a is: 872\n"
          ]
        }
      ]
    },
    {
      "cell_type": "code",
      "source": [
        "from sympy import symbols, Eq, solve\n",
        "\n",
        "# Define variables\n",
        "p, q = symbols('p q', positive=True, integer=True)\n",
        "N = 14905562257842714057932724129575002825405393502650869767115942606408600343380327866258982402447992564988466588305174271674657844352454543958847568190372446723549627752274442789184236490768272313187410077124234699854724907039770193680822495470532218905083459730998003622926152590597710213127952141056029516116785229504645179830037937222022291571738973603920664929150436463632305664687903244972880062028301085749434688159905768052041207513149370212313943117665914802379158613359049957688563885391972151218676545972118494969247440489763431359679770422939441710783575668679693678435669541781490217731619224470152467768073\n",
        "e1 = 12886657667389660800780796462970504910193928992888518978200029826975978624718627799215564700096007849924866627154987365059524315097631111242449314835868137\n",
        "e2 = 12110586673991788415780355139635579057920926864887110308343229256046868242179445444897790171351302575188607117081580121488253540215781625598048021161675697\n",
        "c1 = 14010729418703228234352465883041270611113735889838753433295478495763409056136734155612156934673988344882629541204985909650433819205298939877837314145082403528055884752079219150739849992921393509593620449489882380176216648401057401569934043087087362272303101549800941212057354903559653373299153430753882035233354304783275982332995766778499425529570008008029401325668301144188970480975565215953953985078281395545902102245755862663621187438677596628109967066418993851632543137353041712721919291521767262678140115188735994447949166616101182806820741928292882642234238450207472914232596747755261325098225968268926580993051\n",
        "c2 = 14386997138637978860748278986945098648507142864584111124202580365103793165811666987664851210230009375267398957979494066880296418013345006977654742303441030008490816239306394492168516278328851513359596253775965916326353050138738183351643338294802012193721879700283088378587949921991198231956871429805847767716137817313612304833733918657887480468724409753522369325138502059408241232155633806496752350562284794715321835226991147547651155287812485862794935695241612676255374480132722940682140395725089329445356434489384831036205387293760789976615210310436732813848937666608611803196199865435145094486231635966885932646519\n",
        "\n",
        "# Define the equations\n",
        "eq1 = Eq(c1, (2**e1 * p**e1 + 3**e1 * q**e1) % (p * q))\n",
        "eq2 = Eq(c2, (5**e2 * p**e2 + 7**e2 * q**e2) % (p * q))\n",
        "\n",
        "# Substitute N = p * q in the equations\n",
        "eq1 = eq1.subs(N, p * q)\n",
        "eq2 = eq2.subs(N, p * q)\n",
        "\n",
        "# Solve the system of equations for p and q\n",
        "solutions = solve((eq1, eq2), (p, q))\n",
        "\n",
        "# Print the solutions\n",
        "print(\"Possible values for p and q:\")\n",
        "for solution in solutions:\n",
        "    print(f\"p = {solution[0]}, q = {solution[1]}\")\n",
        "\n"
      ],
      "metadata": {
        "id": "8BBWXy2thM-E"
      },
      "execution_count": null,
      "outputs": []
    },
    {
      "cell_type": "code",
      "source": [
        "from gmpy2 import invert, gcd\n",
        "# N,e1,e2,c1,c2见data\n",
        "a = pow(2, e1 * e2, N)\n",
        "b = pow(3, e1 * e2, N)\n",
        "c = pow(5, e1 * e2, N)\n",
        "d = pow(7, e1 * e2, N)\n",
        "c1_e2 = pow(c1, e2, N)\n",
        "c2_e1 = pow(c2, e1, N)\n",
        "t1 = (d * c1_e2 - b * c2_e1) * invert(a * d - b * c, N)\n",
        "p = gcd(t1, N)\n",
        "t2 = c1_e2 * c - c2_e1 * a * invert(b * c - a * d, N)\n",
        "q = gcd(t2, N)\n",
        "print('crypto{' + str(p) + ',' + str(q) + '}')"
      ],
      "metadata": {
        "id": "tdC-USk8lWgw"
      },
      "execution_count": null,
      "outputs": []
    }
  ]
}